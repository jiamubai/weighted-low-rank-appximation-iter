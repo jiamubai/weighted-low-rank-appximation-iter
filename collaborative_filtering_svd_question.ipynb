{
  "cells": [
    {
      "cell_type": "code",
      "source": [
        "from google.colab import drive\n",
        "import numpy as np\n",
        "import matplotlib.pyplot as plt\n",
        "from scipy.optimize import minimize\n",
        "from tqdm import tqdm\n",
        "import copy\n",
        "drive.mount('/content/drive/')"
      ],
      "metadata": {
        "colab": {
          "base_uri": "https://localhost:8080/"
        },
        "id": "bn6_SvhougHG",
        "outputId": "1cf17ad5-b261-4811-cf13-eba417dde020"
      },
      "id": "bn6_SvhougHG",
      "execution_count": 45,
      "outputs": [
        {
          "output_type": "stream",
          "name": "stdout",
          "text": [
            "Drive already mounted at /content/drive/; to attempt to forcibly remount, call drive.mount(\"/content/drive/\", force_remount=True).\n"
          ]
        }
      ]
    },
    {
      "cell_type": "markdown",
      "id": "agreed-hunter",
      "metadata": {
        "id": "agreed-hunter"
      },
      "source": [
        "### Load movie information and user rating"
      ]
    },
    {
      "cell_type": "code",
      "execution_count": 7,
      "id": "formed-persian",
      "metadata": {
        "colab": {
          "base_uri": "https://localhost:8080/"
        },
        "id": "formed-persian",
        "outputId": "05a8c144-1b66-4091-f8cd-8b10fda25437"
      },
      "outputs": [
        {
          "output_type": "stream",
          "name": "stdout",
          "text": [
            "Index(['movie_id', 'title', 'release_date', 'user_id', 'rating', 'timestamp'], dtype='object')\n",
            "   movie_id             title release_date  user_id  rating  timestamp\n",
            "0         1  Toy Story (1995)  01-Jan-1995      308       4  887736532\n",
            "1         1  Toy Story (1995)  01-Jan-1995      287       5  875334088\n",
            "2         1  Toy Story (1995)  01-Jan-1995      148       4  877019411\n",
            "Star Wars (1977)                    583\n",
            "Contact (1997)                      509\n",
            "Fargo (1996)                        508\n",
            "Return of the Jedi (1983)           507\n",
            "Liar Liar (1997)                    485\n",
            "English Patient, The (1996)         481\n",
            "Scream (1996)                       478\n",
            "Toy Story (1995)                    452\n",
            "Air Force One (1997)                431\n",
            "Independence Day (ID4) (1996)       429\n",
            "Raiders of the Lost Ark (1981)      420\n",
            "Godfather, The (1972)               413\n",
            "Pulp Fiction (1994)                 394\n",
            "Twelve Monkeys (1995)               392\n",
            "Silence of the Lambs, The (1991)    390\n",
            "Jerry Maguire (1996)                384\n",
            "Chasing Amy (1997)                  379\n",
            "Rock, The (1996)                    378\n",
            "Empire Strikes Back, The (1980)     367\n",
            "Star Trek: First Contact (1996)     365\n",
            "Name: title, dtype: int64\n",
            "405    737\n",
            "655    685\n",
            "13     636\n",
            "450    540\n",
            "276    518\n",
            "Name: user_id, dtype: int64\n",
            "4    34174\n",
            "3    27145\n",
            "5    21201\n",
            "2    11370\n",
            "1     6110\n",
            "Name: rating, dtype: int64\n"
          ]
        }
      ],
      "source": [
        "import pandas as pd\n",
        "import numpy as np\n",
        "import matplotlib.pyplot as plt\n",
        "np.random.seed(2022)\n",
        "\n",
        "font_size = 25\n",
        "font_size_ticks = 22\n",
        "\n",
        "rating_names = ['user_id', 'movie_id', 'rating', 'timestamp']\n",
        "ratings = pd.read_csv('/content/drive/MyDrive/NA/ml-100k/u.data', sep='\\t', encoding='latin-1',names=rating_names)\n",
        "movie_names = ['movie_id', 'title', 'release_date']\n",
        "movies = pd.read_csv('/content/drive/MyDrive/NA/ml-100k/u.item', sep='|', names=movie_names,usecols=range(3),\n",
        "                     encoding='latin-1')\n",
        "data = pd.merge(movies,ratings)\n",
        "print(data.columns)\n",
        "print(data.head(3))\n",
        "print(data.title.value_counts()[:20])\n",
        "print(data.user_id.value_counts()[:5])\n",
        "print(data.rating.value_counts())"
      ]
    },
    {
      "cell_type": "markdown",
      "id": "hungry-daily",
      "metadata": {
        "id": "hungry-daily"
      },
      "source": [
        "### Transform the ratings of selected users and movies into a matrix, and center the ratings"
      ]
    },
    {
      "cell_type": "code",
      "execution_count": 89,
      "id": "increasing-basement",
      "metadata": {
        "colab": {
          "base_uri": "https://localhost:8080/"
        },
        "id": "increasing-basement",
        "outputId": "0f2cd6fd-2f4c-4637-a931-298a7b0dfde3"
      },
      "outputs": [
        {
          "output_type": "stream",
          "name": "stdout",
          "text": [
            "2050 observed ratings out of 2500\n",
            "[[5. 4. 5. 5. 5.]\n",
            " [0. 2. 4. 4. 5.]\n",
            " [0. 3. 5. 4. 5.]\n",
            " [5. 3. 5. 4. 5.]\n",
            " [0. 3. 2. 4. 4.]]\n",
            "3.1384\n"
          ]
        }
      ],
      "source": [
        "n_movies = 50\n",
        "n_users = 50\n",
        "movies = data.title.value_counts()[:n_movies].index.tolist()\n",
        "users = np.array(data.user_id.value_counts()[:n_users].index.tolist())\n",
        "\n",
        "rating_matrix = np.zeros((n_movies,n_users))\n",
        "n_ratings = 0\n",
        "for ind,movie in enumerate(movies):\n",
        "    ratings = data[data[\"title\"] == movie]\n",
        "    # rating_matrix[ind,:]= np.mean(ratings['rating']) # Impute mean rating for that movie for all missing ratings\n",
        "    for index, row in ratings.iterrows():\n",
        "        user_id = row['user_id']\n",
        "        if user_id in users:\n",
        "            rating_matrix[ind,np.where(users == user_id)]= row['rating']\n",
        "            # print(movie + \" user: \" + str(user_id) + \" rating: \" + str(row['rating']))\n",
        "            n_ratings += 1\n",
        "print(str(n_ratings) + \" observed ratings out of \" + str(n_movies*n_users))\n",
        "print(rating_matrix[:5,:5])\n",
        "mean_rating = np.mean(rating_matrix)\n",
        "print(mean_rating)\n",
        "centered_matrix = rating_matrix - mean_rating"
      ]
    },
    {
      "cell_type": "markdown",
      "id": "exterior-reunion",
      "metadata": {
        "id": "exterior-reunion"
      },
      "source": [
        "## (a) Preprocessing\n",
        "### Shuffle the nonzero ratings and split into train, validation, and test set\n",
        "Hint: np.flatnonzero() and np.flat() may be helpful to transform the rating matrix"
      ]
    },
    {
      "cell_type": "code",
      "execution_count": 90,
      "id": "controversial-volunteer",
      "metadata": {
        "id": "controversial-volunteer"
      },
      "outputs": [],
      "source": [
        "n_test = 100\n",
        "n_val = 100\n",
        "n_train = n_ratings - n_test - n_val\n",
        "full_rating_matrix = np.zeros((n_movies,n_users))\n",
        "for ind,movie in enumerate(movies):\n",
        "    ratings = data[data[\"title\"] == movie]\n",
        "    for index, row in ratings.iterrows():\n",
        "        user_id = row['user_id']\n",
        "        if user_id in users:\n",
        "            full_rating_matrix[ind,np.where(users == user_id)]= row['rating']\n",
        "\n",
        "# Split train, val, test ratings from nonzero ratings\n",
        "nonmissing_indices = np.flatnonzero(full_rating_matrix > 0.1)\n",
        "aux_ind = nonmissing_indices[np.random.permutation(np.arange(len(nonmissing_indices)))]\n",
        "test_ind = aux_ind[:n_test]\n",
        "val_ind = aux_ind[n_test:(n_test+n_val)]\n",
        "train_ind = aux_ind[(n_test+n_val):(n_test+n_val+n_train)]\n",
        "\n",
        "train_ratings = full_rating_matrix.flat[train_ind]        \n",
        "val_ratings = full_rating_matrix.flat[val_ind]\n",
        "test_ratings = full_rating_matrix.flat[test_ind]"
      ]
    },
    {
      "cell_type": "code",
      "source": [
        "train_ratings.shape"
      ],
      "metadata": {
        "colab": {
          "base_uri": "https://localhost:8080/"
        },
        "id": "rvpJOQhR4pA3",
        "outputId": "4fa94724-b16b-4742-dc74-bdd70d95fd86"
      },
      "id": "rvpJOQhR4pA3",
      "execution_count": 91,
      "outputs": [
        {
          "output_type": "execute_result",
          "data": {
            "text/plain": [
              "(1829,)"
            ]
          },
          "metadata": {},
          "execution_count": 91
        }
      ]
    },
    {
      "cell_type": "markdown",
      "id": "completed-mobile",
      "metadata": {
        "id": "completed-mobile"
      },
      "source": [
        "## (b) Low rank model\n",
        "### Implement an algorithm to fit the low rank model"
      ]
    },
    {
      "cell_type": "markdown",
      "source": [
        "### wlra-iter"
      ],
      "metadata": {
        "id": "aNhlVU1sDx53"
      },
      "id": "aNhlVU1sDx53"
    },
    {
      "cell_type": "code",
      "execution_count": 92,
      "id": "15ed742e",
      "metadata": {
        "colab": {
          "base_uri": "https://localhost:8080/"
        },
        "id": "15ed742e",
        "outputId": "afd79c57-04ae-4eca-a14c-60d0c38d181c"
      },
      "outputs": [
        {
          "output_type": "stream",
          "name": "stdout",
          "text": [
            "[[5. 4. 5.]\n",
            " [0. 2. 0.]\n",
            " [0. 3. 5.]]\n"
          ]
        }
      ],
      "source": [
        "# make imputed rating matrix (training data) as initialization\n",
        "rating_matrix_ini = np.zeros(full_rating_matrix.shape)\n",
        "rating_matrix_ini.flat[train_ind] = train_ratings\n",
        "# mean_rating_movie = np.zeros(n_movies)\n",
        "\n",
        "# # Impute mean rating of each movie to fill missing ratings\n",
        "# for ind_movie in range(rating_matrix_ini.shape[0]):\n",
        "#     # TODO\n",
        "#     nonzero_idx = np.flatnonzero(rating_matrix_ini[ind_movie])\n",
        "#     mean_rating_movie[ind_movie] = np.mean(rating_matrix_ini[ind_movie][nonzero_idx])\n",
        "#     zero_idx = np.where(rating_matrix_ini[ind_movie] == 0)[0]\n",
        "#     rating_matrix_ini[ind_movie].flat[zero_idx] = mean_rating_movie[ind_movie]\n",
        "    \n",
        "# show part of the matrix\n",
        "print(rating_matrix_ini[:3,:3])"
      ]
    },
    {
      "cell_type": "code",
      "source": [
        "def span_vec_objective(z, A, W, X): # a function of vector z, A, W and X are parameters\n",
        "  num_rows, num_cols = A.shape\n",
        "  obj = 0\n",
        "  z = z/np.linalg.norm(z)\n",
        "  for j in range(num_cols):\n",
        "    gradient_fj_xj = []\n",
        "    for row_index in range(num_rows):\n",
        "      gradient_fj_xj.append(-2*W[row_index,j]*(A[row_index,j]-X[row_index,j]))\n",
        "    obj += (gradient_fj_xj@z)**2\n",
        "  return obj\n",
        "\n",
        "def col_vec_approx_obj(v, A, W, j):\n",
        "  num_rows, _ = A.shape\n",
        "  obj = 0\n",
        "  for row_index in range(num_rows):\n",
        "    obj += W[row_index,j]*(A[row_index,j]-v[row_index])**2\n",
        "  return obj\n",
        "def wlra_iter(A, W, k, eps=None):\n",
        "  num_rows, num_cols = A.shape\n",
        "  Z = []\n",
        "  X_lst = []\n",
        "  # for _ in range(num_cols):\n",
        "  #   X.append(np.zeros(num_rows))\n",
        "  X = np.zeros(A.shape)\n",
        "  cost_lst = []\n",
        "  for t in range(k):\n",
        "    obj_func = lambda z: -1*span_vec_objective(z, A, W, X) # function to minimize\n",
        "    # constraints = [{'type': 'eq', 'fun': lambda z: np.sqrt(z.T@z)-1}]\n",
        "    z0 = np.random.rand(num_cols)*5 # initial guess\n",
        "    z0 = z0 / np.linalg.norm(z0)\n",
        "    # z = minimize(obj_func, z0, constraints=constraints).x\n",
        "    z = minimize(obj_func, z0).x\n",
        "    Z.append(z)\n",
        "    \n",
        "    for j in range(num_cols):\n",
        "      # obj_func = lambda eta: col_vec_approx_obj(X[j]+eta*z, A, W, j)\n",
        "      obj_func = lambda eta: col_vec_approx_obj(X[:,j]+eta*z, A, W, j)\n",
        "      eta0 = 1 # initial guess\n",
        "      eta = minimize(obj_func, eta0).x\n",
        "      # x_prime = X[j]+eta*z\n",
        "      x_prime = X[:,j]+eta*z\n",
        "\n",
        "      obj_func = lambda eta: col_vec_approx_obj(eta*x_prime, A, W, j)\n",
        "      eta0 = 1 # initial guess\n",
        "      eta = minimize(obj_func, eta0).x\n",
        "      X[:,j] = eta*x_prime\n",
        "      # X[j] = eta*x_prime\n",
        "    cost = np.sum(W*(X-A)**2)\n",
        "    if eps is not None and cost < eps:\n",
        "      return X, cost_lst\n",
        "    cost_lst.append(cost)\n",
        "    X_lst.append(copy.deepcopy(X))\n",
        "    print('iter:', t, 'cost:', cost)\n",
        "  return X_lst, cost_lst"
      ],
      "metadata": {
        "id": "7ZiVdrdW5gAT"
      },
      "id": "7ZiVdrdW5gAT",
      "execution_count": 93,
      "outputs": []
    },
    {
      "cell_type": "markdown",
      "source": [
        "Fit the low rank model with ranks from 1 to 10. Report and plot the training errors and validation errors."
      ],
      "metadata": {
        "id": "pDCcxcxrEquR"
      },
      "id": "pDCcxcxrEquR"
    },
    {
      "cell_type": "code",
      "source": [
        "ranks = 9\n",
        "train_error_wlra = np.zeros(ranks)\n",
        "val_error_wlra = np.zeros(ranks)\n",
        "W = rating_matrix_ini!=0 + 0\n",
        "convergence_thresh = 1e-4\n",
        "\n",
        "X_lst, error_lst = wlra_iter(A=rating_matrix_ini,W = W,k = ranks,eps=convergence_thresh)\n",
        "for ind in range(ranks):\n",
        "  train_error_wlra[ind] = np.linalg.norm(X_lst[ind].flat[train_ind] - train_ratings)\n",
        "  val_error_wlra[ind] = np.linalg.norm(X_lst[ind].flat[val_ind] - val_ratings)"
      ],
      "metadata": {
        "colab": {
          "base_uri": "https://localhost:8080/"
        },
        "id": "rUiKEN_SEp4Z",
        "outputId": "73a52140-5185-4110-f403-09df345887a2"
      },
      "id": "rUiKEN_SEp4Z",
      "execution_count": 94,
      "outputs": [
        {
          "output_type": "stream",
          "name": "stdout",
          "text": [
            "iter: 0 cost: 1861.8385042573686\n",
            "iter: 1 cost: 1211.969714130741\n",
            "iter: 2 cost: 1039.5800929068905\n",
            "iter: 3 cost: 936.1216203450342\n",
            "iter: 4 cost: 833.6988434065019\n",
            "iter: 5 cost: 747.1979924374111\n",
            "iter: 6 cost: 660.0546029389882\n",
            "iter: 7 cost: 588.6581971284909\n",
            "iter: 8 cost: 519.179464768421\n"
          ]
        }
      ]
    },
    {
      "cell_type": "markdown",
      "source": [
        "### baseline"
      ],
      "metadata": {
        "id": "5aYnH233D77N"
      },
      "id": "5aYnH233D77N"
    },
    {
      "cell_type": "code",
      "source": [
        "# make imputed rating matrix (training data) as initialization\n",
        "rating_matrix_ini = np.zeros(full_rating_matrix.shape)\n",
        "rating_matrix_ini.flat[train_ind] = train_ratings\n",
        "mean_rating_movie = np.zeros(n_movies)\n",
        "\n",
        "# Impute mean rating of each movie to fill missing ratings\n",
        "for ind_movie in range(rating_matrix_ini.shape[0]):\n",
        "    # TODO\n",
        "    nonzero_idx = np.flatnonzero(rating_matrix_ini[ind_movie])\n",
        "    mean_rating_movie[ind_movie] = np.mean(rating_matrix_ini[ind_movie][nonzero_idx])\n",
        "    zero_idx = np.where(rating_matrix_ini[ind_movie] == 0)[0]\n",
        "    rating_matrix_ini[ind_movie].flat[zero_idx] = mean_rating_movie[ind_movie]\n",
        "    \n",
        "# show part of the matrix\n",
        "print(rating_matrix_ini[:3,:3])"
      ],
      "metadata": {
        "colab": {
          "base_uri": "https://localhost:8080/"
        },
        "id": "a8jGTEbXD_76",
        "outputId": "5f726d71-7e0e-4295-c763-f54749778bec"
      },
      "id": "a8jGTEbXD_76",
      "execution_count": 118,
      "outputs": [
        {
          "output_type": "stream",
          "name": "stdout",
          "text": [
            "[[5.         4.         5.        ]\n",
            " [3.72222222 2.         3.72222222]\n",
            " [4.14285714 3.         5.        ]]\n"
          ]
        }
      ]
    },
    {
      "cell_type": "code",
      "execution_count": 96,
      "id": "micro-armstrong",
      "metadata": {
        "colab": {
          "base_uri": "https://localhost:8080/"
        },
        "id": "micro-armstrong",
        "outputId": "7c1684e0-a3b4-41c7-dcd5-041090a718da"
      },
      "outputs": [
        {
          "output_type": "stream",
          "name": "stdout",
          "text": [
            "Iteration 0 Error: 12.760262804721688\n",
            "Iteration 1 Error: 10.963422031393838\n",
            "Iteration 2 Error: 9.974108674787404\n",
            "Iteration 3 Error: 9.332091298544876\n",
            "Iteration 4 Error: 8.87524302774358\n",
            "[[5.         4.         5.        ]\n",
            " [3.72222222 2.         3.72222222]\n",
            " [4.14285714 3.         5.        ]]\n",
            "[[5.10102024 3.96447299 5.2264459 ]\n",
            " [3.73577508 2.0147502  2.59770675]\n",
            " [4.39639462 2.76125105 5.0534295 ]]\n"
          ]
        }
      ],
      "source": [
        "def fit_low_rank_model(rank,rating_matrix_ini,train_ind,train_data,n_iter,convergence_thresh,verbose):\n",
        "    \"\"\"Fit the low rank model. \n",
        "    Return the estimation of the low rank model - (n_movies * n_users) matrix\n",
        "\n",
        "    Keyword arguments:\n",
        "    rank -- the rank of low rank model\n",
        "    rating_matrix_ini -- imputed initialization\n",
        "    train_ind -- index of training data\n",
        "    train_data -- ratings of training set\n",
        "    n_iter -- the max number of iterations\n",
        "    convergence_thresh -- the threshold of convergence to 0\n",
        "    \"\"\"\n",
        "    previous_fitting_error = 100\n",
        "    # Initialization\n",
        "    low_rank_estimate = rating_matrix_ini\n",
        "    \n",
        "    for ind in range(n_iter):\n",
        "        # Updates\n",
        "        # TODO\n",
        "        low_rank_estimate.flat[train_ind] = train_data\n",
        "        u, s, vh = np.linalg.svd(low_rank_estimate)\n",
        "        low_rank_estimate = u[:, :rank]@np.diag(s[:rank])@vh[:rank,:]\n",
        "        # Compute error\n",
        "        fitting_error = np.linalg.norm(low_rank_estimate.flat[train_ind] - train_data)\n",
        "        if verbose:\n",
        "            print(\"Iteration \" + str(ind) + \" Error: \" + str(fitting_error))\n",
        "        \n",
        "        # Stopping criterion\n",
        "        #TODO\n",
        "        if fitting_error < convergence_thresh:\n",
        "            break\n",
        "    return low_rank_estimate\n",
        "\n",
        "n_iter = 5\n",
        "convergence_thresh = 1e-4\n",
        "verbose = True\n",
        "rank = 20\n",
        "estimate =fit_low_rank_model(rank,rating_matrix_ini,train_ind,train_ratings,n_iter,convergence_thresh,verbose)\n",
        "estimate[:3,:3]\n",
        "print(rating_matrix_ini[:3,:3])\n",
        "print(estimate[:3,:3])"
      ]
    },
    {
      "cell_type": "markdown",
      "id": "clear-stack",
      "metadata": {
        "id": "clear-stack"
      },
      "source": [
        "Fit the low rank model with ranks from 1 to 10. Report and plot the training errors and validation errors."
      ]
    },
    {
      "cell_type": "code",
      "execution_count": 98,
      "id": "seventh-cooking",
      "metadata": {
        "colab": {
          "base_uri": "https://localhost:8080/"
        },
        "id": "seventh-cooking",
        "outputId": "637fd260-572f-438e-9c17-acbc1adcc888"
      },
      "outputs": [
        {
          "output_type": "stream",
          "name": "stdout",
          "text": [
            "Rank 1\n",
            "Rank 2\n",
            "Rank 3\n",
            "Rank 4\n",
            "Rank 5\n",
            "Rank 6\n",
            "Rank 7\n",
            "Rank 8\n",
            "Rank 9\n"
          ]
        }
      ],
      "source": [
        "ranks = np.arange(1,10,1)\n",
        "train_error_base = np.zeros(len(ranks))\n",
        "val_error_base = np.zeros(len(ranks))\n",
        "\n",
        "n_iter = 500\n",
        "convergence_thresh = 1e-4\n",
        "verbose = False\n",
        "\n",
        "for ind,rank in enumerate(ranks):\n",
        "    print(\"Rank \" + str(rank))\n",
        "    estimate = fit_low_rank_model(rank,rating_matrix_ini,train_ind,train_ratings,n_iter,convergence_thresh,verbose)\n",
        "    train_error_base[ind] = np.linalg.norm(estimate.flat[train_ind] - train_ratings)\n",
        "    val_error_base[ind] = np.linalg.norm(estimate.flat[val_ind] - val_ratings)"
      ]
    },
    {
      "cell_type": "code",
      "execution_count": 99,
      "id": "solar-packaging",
      "metadata": {
        "colab": {
          "base_uri": "https://localhost:8080/",
          "height": 585
        },
        "id": "solar-packaging",
        "outputId": "724f5d66-cf62-4953-f947-e069e31181ed"
      },
      "outputs": [
        {
          "output_type": "display_data",
          "data": {
            "text/plain": [
              "<Figure size 900x600 with 1 Axes>"
            ],
            "image/png": "[encoded data removed]"
          },
          "metadata": {}
        }
      ],
      "source": [
        "markersize = 10\n",
        "plt.figure(figsize=(9,6))\n",
        "plt.plot(ranks,train_error_base,linestyle=\"None\",marker='o',markeredgewidth=2,label=\"Training error baseline\")\n",
        "plt.plot(ranks,val_error_base,linestyle=\"None\",marker='o',markeredgewidth=2,label=\"Validation error baseline\")\n",
        "plt.plot(ranks,train_error_wlra,linestyle=\"None\",marker='o',markeredgewidth=2,label=\"Training error wlra\")\n",
        "plt.plot(ranks,val_error_wlra,linestyle=\"None\",marker='o',markeredgewidth=2,label=\"Validation error wlra\")\n",
        "plt.ylabel('Root mean squared error',fontsize=font_size,labelpad=10)\n",
        "plt.xlabel('Rank',fontsize=font_size,labelpad=10)\n",
        "plt.xticks(fontsize=font_size_ticks) \n",
        "plt.yticks(fontsize=font_size_ticks)\n",
        "#plt.ylim([0,1.1])\n",
        "plt.legend()\n",
        "# print(val_error)\n",
        "plt.show()\n",
        "# plt.savefig('collaborative_filtering_errors.pdf',bbox_inches=\"tight\")"
      ]
    },
    {
      "cell_type": "markdown",
      "id": "known-rough",
      "metadata": {
        "id": "known-rough"
      },
      "source": [
        "## (c) Evaluation\n",
        "### What's the best rank (with least validation loss)? Report the test_error."
      ]
    },
    {
      "cell_type": "code",
      "execution_count": 119,
      "id": "popular-oregon",
      "metadata": {
        "colab": {
          "base_uri": "https://localhost:8080/"
        },
        "id": "popular-oregon",
        "outputId": "7e637b89-11fe-473e-9d2c-b395ebff8bc5"
      },
      "outputs": [
        {
          "output_type": "stream",
          "name": "stdout",
          "text": [
            "Error of low-rank estimate: 8.81\n"
          ]
        }
      ],
      "source": [
        "# baseline\n",
        "best_rank = 1\n",
        "estimate = fit_low_rank_model(best_rank,rating_matrix_ini,train_ind,train_ratings,n_iter,convergence_thresh,verbose)\n",
        "test_error = np.linalg.norm(estimate.flat[test_ind] - test_ratings)\n",
        "print(\"Error of low-rank estimate: \" + str(np.round(test_error,3)))"
      ]
    },
    {
      "cell_type": "code",
      "source": [
        "best_rank = 2\n",
        "estimate = X_lst[best_rank]\n",
        "test_error = np.linalg.norm(estimate.flat[test_ind] - test_ratings)\n",
        "print(\"Error of low-rank estimate: \" + str(np.round(test_error,3)))"
      ],
      "metadata": {
        "colab": {
          "base_uri": "https://localhost:8080/"
        },
        "id": "mt3m1rHpJm_v",
        "outputId": "5472effd-bb68-4f2c-8c96-70612f6a1400"
      },
      "id": "mt3m1rHpJm_v",
      "execution_count": 115,
      "outputs": [
        {
          "output_type": "stream",
          "name": "stdout",
          "text": [
            "Error of low-rank estimate: 8.768\n"
          ]
        }
      ]
    },
    {
      "cell_type": "markdown",
      "id": "through-navigator",
      "metadata": {
        "id": "through-navigator"
      },
      "source": [
        "### If we estimate rating of each moive with the mean of its ratings (on training data), what's the test error? Compare with low rank model."
      ]
    },
    {
      "cell_type": "code",
      "execution_count": 120,
      "id": "stock-karen",
      "metadata": {
        "colab": {
          "base_uri": "https://localhost:8080/"
        },
        "id": "stock-karen",
        "outputId": "144c6685-8183-44c1-b16a-9fc0f12de8b9"
      },
      "outputs": [
        {
          "output_type": "stream",
          "name": "stdout",
          "text": [
            "Error of mean-movie estimate: 9.68\n"
          ]
        }
      ],
      "source": [
        "mean_rating_estimate = rating_matrix_ini\n",
        "error_mean_rating = np.linalg.norm(mean_rating_estimate.flat[test_ind] - test_ratings)\n",
        "print(\"Error of mean-movie estimate: \" + str(np.round(error_mean_rating,3)))"
      ]
    }
  ],
  "metadata": {
    "kernelspec": {
      "display_name": "Python 3",
      "language": "python",
      "name": "python3"
    },
    "language_info": {
      "codemirror_mode": {
        "name": "ipython",
        "version": 3
      },
      "file_extension": ".py",
      "mimetype": "text/x-python",
      "name": "python",
      "nbconvert_exporter": "python",
      "pygments_lexer": "ipython3",
      "version": "3.8.8"
    },
    "colab": {
      "provenance": []
    }
  },
  "nbformat": 4,
  "nbformat_minor": 5
}